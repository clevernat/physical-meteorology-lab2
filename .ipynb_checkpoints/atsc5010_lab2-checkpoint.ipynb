{
 "cells": [
  {
   "cell_type": "code",
   "execution_count": 1,
   "id": "014319c8",
   "metadata": {},
   "outputs": [],
   "source": [
    "import pandas as pd\n",
    "import numpy as np\n",
    "import matplotlib.pyplot as plt\n",
    "from scipy.io import readsav"
   ]
  },
  {
   "cell_type": "code",
   "execution_count": 2,
   "id": "42529afd",
   "metadata": {},
   "outputs": [
    {
     "data": {
      "text/plain": [
       "{'tko': 273.15,\n",
       " 'po': 100000.0,\n",
       " 'r': 8.3144,\n",
       " 'rd': 287.05,\n",
       " 'rv': 461.51,\n",
       " 'epsilon': 0.622,\n",
       " 'cpd': 1005.2,\n",
       " 'cpv': 1870.4,\n",
       " 'cl': 4218.0,\n",
       " 'ci': 2106.0,\n",
       " 'lvo': 2500800.0,\n",
       " 'lso': 2834500.0,\n",
       " 'g': 9.81}"
      ]
     },
     "execution_count": 2,
     "metadata": {},
     "output_type": "execute_result"
    }
   ],
   "source": [
    "# reading phycon.sav file\n",
    "phycon_data = readsav('phycon.sav')\n",
    "phycon_data"
   ]
  },
  {
   "cell_type": "code",
   "execution_count": 3,
   "id": "0c577b44",
   "metadata": {},
   "outputs": [
    {
     "data": {
      "text/html": [
       "<div>\n",
       "<style scoped>\n",
       "    .dataframe tbody tr th:only-of-type {\n",
       "        vertical-align: middle;\n",
       "    }\n",
       "\n",
       "    .dataframe tbody tr th {\n",
       "        vertical-align: top;\n",
       "    }\n",
       "\n",
       "    .dataframe thead th {\n",
       "        text-align: right;\n",
       "    }\n",
       "</style>\n",
       "<table border=\"1\" class=\"dataframe\">\n",
       "  <thead>\n",
       "    <tr style=\"text-align: right;\">\n",
       "      <th></th>\n",
       "      <th>Time [sec]</th>\n",
       "      <th>P [hPa]</th>\n",
       "      <th>T [°C]</th>\n",
       "      <th>Hu [%]</th>\n",
       "      <th>Ws [m/s]</th>\n",
       "      <th>Wd [°]</th>\n",
       "      <th>Ws U [m/s]</th>\n",
       "      <th>Ws V [m/s]</th>\n",
       "      <th>Alt [m]</th>\n",
       "      <th>Lon [°]</th>\n",
       "      <th>Lat [°]</th>\n",
       "      <th>Dew [°C]</th>\n",
       "    </tr>\n",
       "  </thead>\n",
       "  <tbody>\n",
       "    <tr>\n",
       "      <th>0</th>\n",
       "      <td>0</td>\n",
       "      <td>787.0</td>\n",
       "      <td>21.6</td>\n",
       "      <td>22</td>\n",
       "      <td>0.0</td>\n",
       "      <td>0</td>\n",
       "      <td>0.0</td>\n",
       "      <td>0.0</td>\n",
       "      <td>2200</td>\n",
       "      <td>-105.581200</td>\n",
       "      <td>41.313200</td>\n",
       "      <td>9.6</td>\n",
       "    </tr>\n",
       "    <tr>\n",
       "      <th>1</th>\n",
       "      <td>1</td>\n",
       "      <td>786.4</td>\n",
       "      <td>21.2</td>\n",
       "      <td>21</td>\n",
       "      <td>0.1</td>\n",
       "      <td>3</td>\n",
       "      <td>0.0</td>\n",
       "      <td>-0.1</td>\n",
       "      <td>2207</td>\n",
       "      <td>-105.581183</td>\n",
       "      <td>41.313182</td>\n",
       "      <td>-1.7</td>\n",
       "    </tr>\n",
       "    <tr>\n",
       "      <th>2</th>\n",
       "      <td>2</td>\n",
       "      <td>785.8</td>\n",
       "      <td>20.9</td>\n",
       "      <td>21</td>\n",
       "      <td>0.1</td>\n",
       "      <td>3</td>\n",
       "      <td>0.0</td>\n",
       "      <td>-0.1</td>\n",
       "      <td>2214</td>\n",
       "      <td>-105.581167</td>\n",
       "      <td>41.313165</td>\n",
       "      <td>-2.5</td>\n",
       "    </tr>\n",
       "    <tr>\n",
       "      <th>3</th>\n",
       "      <td>3</td>\n",
       "      <td>785.2</td>\n",
       "      <td>20.5</td>\n",
       "      <td>20</td>\n",
       "      <td>0.2</td>\n",
       "      <td>3</td>\n",
       "      <td>0.0</td>\n",
       "      <td>-0.2</td>\n",
       "      <td>2221</td>\n",
       "      <td>-105.581150</td>\n",
       "      <td>41.313147</td>\n",
       "      <td>-3.2</td>\n",
       "    </tr>\n",
       "    <tr>\n",
       "      <th>4</th>\n",
       "      <td>4</td>\n",
       "      <td>784.5</td>\n",
       "      <td>20.1</td>\n",
       "      <td>19</td>\n",
       "      <td>0.3</td>\n",
       "      <td>3</td>\n",
       "      <td>0.0</td>\n",
       "      <td>-0.3</td>\n",
       "      <td>2227</td>\n",
       "      <td>-105.581133</td>\n",
       "      <td>41.313129</td>\n",
       "      <td>-4.0</td>\n",
       "    </tr>\n",
       "    <tr>\n",
       "      <th>...</th>\n",
       "      <td>...</td>\n",
       "      <td>...</td>\n",
       "      <td>...</td>\n",
       "      <td>...</td>\n",
       "      <td>...</td>\n",
       "      <td>...</td>\n",
       "      <td>...</td>\n",
       "      <td>...</td>\n",
       "      <td>...</td>\n",
       "      <td>...</td>\n",
       "      <td>...</td>\n",
       "      <td>...</td>\n",
       "    </tr>\n",
       "    <tr>\n",
       "      <th>6086</th>\n",
       "      <td>6086</td>\n",
       "      <td>534.8</td>\n",
       "      <td>-6.5</td>\n",
       "      <td>999999</td>\n",
       "      <td>5.6</td>\n",
       "      <td>341</td>\n",
       "      <td>1.8</td>\n",
       "      <td>-5.3</td>\n",
       "      <td>5390</td>\n",
       "      <td>-105.295032</td>\n",
       "      <td>40.994513</td>\n",
       "      <td>999999.0</td>\n",
       "    </tr>\n",
       "    <tr>\n",
       "      <th>6087</th>\n",
       "      <td>6087</td>\n",
       "      <td>535.7</td>\n",
       "      <td>-6.4</td>\n",
       "      <td>999999</td>\n",
       "      <td>5.7</td>\n",
       "      <td>340</td>\n",
       "      <td>1.9</td>\n",
       "      <td>-5.4</td>\n",
       "      <td>5378</td>\n",
       "      <td>-105.295006</td>\n",
       "      <td>40.994464</td>\n",
       "      <td>999999.0</td>\n",
       "    </tr>\n",
       "    <tr>\n",
       "      <th>6088</th>\n",
       "      <td>6088</td>\n",
       "      <td>536.5</td>\n",
       "      <td>-6.4</td>\n",
       "      <td>999999</td>\n",
       "      <td>5.7</td>\n",
       "      <td>339</td>\n",
       "      <td>2.0</td>\n",
       "      <td>-5.3</td>\n",
       "      <td>5366</td>\n",
       "      <td>-105.294981</td>\n",
       "      <td>40.994416</td>\n",
       "      <td>999999.0</td>\n",
       "    </tr>\n",
       "    <tr>\n",
       "      <th>6089</th>\n",
       "      <td>6089</td>\n",
       "      <td>537.3</td>\n",
       "      <td>-6.3</td>\n",
       "      <td>999999</td>\n",
       "      <td>5.7</td>\n",
       "      <td>339</td>\n",
       "      <td>2.1</td>\n",
       "      <td>-5.3</td>\n",
       "      <td>5354</td>\n",
       "      <td>-105.294955</td>\n",
       "      <td>40.994368</td>\n",
       "      <td>999999.0</td>\n",
       "    </tr>\n",
       "    <tr>\n",
       "      <th>6090</th>\n",
       "      <td>6090</td>\n",
       "      <td>538.1</td>\n",
       "      <td>-6.2</td>\n",
       "      <td>999999</td>\n",
       "      <td>5.7</td>\n",
       "      <td>338</td>\n",
       "      <td>2.1</td>\n",
       "      <td>-5.3</td>\n",
       "      <td>5342</td>\n",
       "      <td>-105.294929</td>\n",
       "      <td>40.994320</td>\n",
       "      <td>999999.0</td>\n",
       "    </tr>\n",
       "  </tbody>\n",
       "</table>\n",
       "<p>6091 rows × 12 columns</p>\n",
       "</div>"
      ],
      "text/plain": [
       "      Time [sec]  P [hPa]  T [°C]  Hu [%]  Ws [m/s]  Wd [°]  Ws U [m/s]  \\\n",
       "0              0    787.0    21.6      22       0.0       0         0.0   \n",
       "1              1    786.4    21.2      21       0.1       3         0.0   \n",
       "2              2    785.8    20.9      21       0.1       3         0.0   \n",
       "3              3    785.2    20.5      20       0.2       3         0.0   \n",
       "4              4    784.5    20.1      19       0.3       3         0.0   \n",
       "...          ...      ...     ...     ...       ...     ...         ...   \n",
       "6086        6086    534.8    -6.5  999999       5.6     341         1.8   \n",
       "6087        6087    535.7    -6.4  999999       5.7     340         1.9   \n",
       "6088        6088    536.5    -6.4  999999       5.7     339         2.0   \n",
       "6089        6089    537.3    -6.3  999999       5.7     339         2.1   \n",
       "6090        6090    538.1    -6.2  999999       5.7     338         2.1   \n",
       "\n",
       "      Ws V [m/s]  Alt [m]     Lon [°]    Lat [°]  Dew [°C]  \n",
       "0            0.0     2200 -105.581200  41.313200       9.6  \n",
       "1           -0.1     2207 -105.581183  41.313182      -1.7  \n",
       "2           -0.1     2214 -105.581167  41.313165      -2.5  \n",
       "3           -0.2     2221 -105.581150  41.313147      -3.2  \n",
       "4           -0.3     2227 -105.581133  41.313129      -4.0  \n",
       "...          ...      ...         ...        ...       ...  \n",
       "6086        -5.3     5390 -105.295032  40.994513  999999.0  \n",
       "6087        -5.4     5378 -105.295006  40.994464  999999.0  \n",
       "6088        -5.3     5366 -105.294981  40.994416  999999.0  \n",
       "6089        -5.3     5354 -105.294955  40.994368  999999.0  \n",
       "6090        -5.3     5342 -105.294929  40.994320  999999.0  \n",
       "\n",
       "[6091 rows x 12 columns]"
      ]
     },
     "execution_count": 3,
     "metadata": {},
     "output_type": "execute_result"
    }
   ],
   "source": [
    "# reading the sounding data in which pressure, temperature and height data are in.\n",
    "sounding_data = pd.read_csv('20220912_1655.csv',  encoding= 'unicode_escape')\n",
    "sounding_data"
   ]
  },
  {
   "cell_type": "code",
   "execution_count": 9,
   "id": "199b4334",
   "metadata": {},
   "outputs": [
    {
     "data": {
      "text/plain": [
       "6091"
      ]
     },
     "execution_count": 9,
     "metadata": {},
     "output_type": "execute_result"
    }
   ],
   "source": [
    "len(sounding_data)"
   ]
  },
  {
   "cell_type": "code",
   "execution_count": null,
   "id": "7b95bce5",
   "metadata": {},
   "outputs": [],
   "source": []
  },
  {
   "cell_type": "markdown",
   "id": "b20413fa",
   "metadata": {},
   "source": [
    "# Extracting pressure, temperature and height data from sound data"
   ]
  },
  {
   "cell_type": "code",
   "execution_count": null,
   "id": "cb1f5fc0",
   "metadata": {},
   "outputs": [],
   "source": [
    "extracted_data = "
   ]
  },
  {
   "cell_type": "code",
   "execution_count": null,
   "id": "a0cba263",
   "metadata": {},
   "outputs": [],
   "source": []
  },
  {
   "cell_type": "code",
   "execution_count": 10,
   "id": "9c843292",
   "metadata": {},
   "outputs": [],
   "source": [
    "# sounding_data['P [hPa]'][0], sounding_data.iloc[0:1, 1][0]"
   ]
  },
  {
   "cell_type": "code",
   "execution_count": null,
   "id": "290530fd",
   "metadata": {},
   "outputs": [],
   "source": []
  },
  {
   "cell_type": "code",
   "execution_count": 17,
   "id": "3d6d0e33",
   "metadata": {},
   "outputs": [
    {
     "data": {
      "text/plain": [
       "0       2200.000000\n",
       "1       2206.577858\n",
       "2       2213.160736\n",
       "3       2219.748643\n",
       "4       2227.440899\n",
       "           ...     \n",
       "6086    5532.014369\n",
       "6087    5517.512356\n",
       "6088    5504.642117\n",
       "6089    5491.791055\n",
       "6090    5478.959113\n",
       "Name: P [hPa], Length: 6091, dtype: float64"
      ]
     },
     "execution_count": 17,
     "metadata": {},
     "output_type": "execute_result"
    }
   ],
   "source": [
    "# for isothermal model\n",
    "zo = sounding_data['Alt [m]'][0] #2200\n",
    "Rd = phycon_data['rd']\n",
    "To = sounding_data['T [°C]'][0] + phycon_data['tko']\n",
    "go = phycon_data['g']\n",
    "p_zo = sounding_data['P [hPa]'][0] #787.0\n",
    "p_z1 = 786.4\n",
    "\n",
    "# calculation\n",
    "z = zo + ( (Rd*To / go) ) * ( np.log(p_zo/sounding_data['P [hPa]']) )\n",
    "z"
   ]
  },
  {
   "cell_type": "code",
   "execution_count": 16,
   "id": "73d44e2f",
   "metadata": {},
   "outputs": [],
   "source": [
    "for i in range(0, 6092):\n",
    "#     print(i)\n",
    "    pass"
   ]
  },
  {
   "cell_type": "code",
   "execution_count": 19,
   "id": "c54f81cb",
   "metadata": {},
   "outputs": [],
   "source": [
    "# a = [1,2,3,4,5]\n",
    "# len(a)"
   ]
  },
  {
   "cell_type": "code",
   "execution_count": null,
   "id": "9614336f",
   "metadata": {},
   "outputs": [],
   "source": []
  }
 ],
 "metadata": {
  "kernelspec": {
   "display_name": "Python 3 (ipykernel)",
   "language": "python",
   "name": "python3"
  },
  "language_info": {
   "codemirror_mode": {
    "name": "ipython",
    "version": 3
   },
   "file_extension": ".py",
   "mimetype": "text/x-python",
   "name": "python",
   "nbconvert_exporter": "python",
   "pygments_lexer": "ipython3",
   "version": "3.10.4"
  }
 },
 "nbformat": 4,
 "nbformat_minor": 5
}
